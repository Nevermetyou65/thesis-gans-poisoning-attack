{
 "cells": [
  {
   "cell_type": "code",
   "execution_count": null,
   "metadata": {},
   "outputs": [],
   "source": [
    "import os\n",
    "\n",
    "os.chdir(os.path.dirname(os.getcwd()))"
   ]
  },
  {
   "cell_type": "code",
   "execution_count": null,
   "metadata": {},
   "outputs": [],
   "source": [
    "import numpy as np\n",
    "import matplotlib.pyplot as plt\n",
    "import matplotlib\n",
    "import pickle\n",
    "\n",
    "matplotlib.rcParams.update({\"font.size\": 13})\n",
    "with open(\"\", \"rb\") as f:\n",
    "    FID = np.array(pickle.load(f))\n",
    "\n",
    "FID = np.mean(FID, axis=1)\n",
    "epochs = list(range(5, 201, 5))\n",
    "print(\"epoch of min:\", epochs[np.argmin(FID)])\n",
    "print(\"min FID:\", np.min(FID))\n",
    "\n",
    "fig = plt.figure(figsize=(10, 5))\n",
    "plt.plot(epochs, FID, marker=\"o\", c=\"orange\")\n",
    "plt.xlabel(\"the number of epoch\")\n",
    "plt.ylabel(\"FID score\")\n",
    "plt.savefig(\"fid.svg\", format=\"svg\", dpi=1200)\n",
    "plt.show()"
   ]
  },
  {
   "cell_type": "code",
   "execution_count": null,
   "metadata": {},
   "outputs": [],
   "source": []
  }
 ],
 "metadata": {
  "kernelspec": {
   "display_name": "thesisenv",
   "language": "python",
   "name": "python3"
  },
  "language_info": {
   "codemirror_mode": {
    "name": "ipython",
    "version": 3
   },
   "file_extension": ".py",
   "mimetype": "text/x-python",
   "name": "python",
   "nbconvert_exporter": "python",
   "pygments_lexer": "ipython3",
   "version": "3.11.5"
  }
 },
 "nbformat": 4,
 "nbformat_minor": 2
}
